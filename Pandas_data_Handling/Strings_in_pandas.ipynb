{
 "cells": [
  {
   "cell_type": "markdown",
   "metadata": {},
   "source": [
    "# Working With Strings In Pandas"
   ]
  },
  {
   "cell_type": "code",
   "execution_count": 1,
   "metadata": {},
   "outputs": [],
   "source": [
    "import pandas as pd\n",
    "import matplotlib.pyplot as plt\n",
    "import numpy as np"
   ]
  },
  {
   "cell_type": "markdown",
   "metadata": {},
   "source": [
    "## Introduction ##"
   ]
  },
  {
   "cell_type": "code",
   "execution_count": 2,
   "metadata": {},
   "outputs": [],
   "source": [
    "world_dev = pd.read_csv(\"World_dev.csv\")\n",
    "happiness2015 = pd.read_csv('World_Happiness_2015.csv')\n",
    "col_renaming = {'SourceOfMostRecentIncomeAndExpenditureData': 'IESurvey'}\n",
    "merged = pd.merge(left = happiness2015, right = world_dev, how = 'left', left_on = 'Country', right_on = 'ShortName')\n",
    "merged = merged.rename(col_renaming, axis = 1)"
   ]
  },
  {
   "cell_type": "markdown",
   "metadata": {},
   "source": [
    "## Using Apply to Transform Strings ##"
   ]
  },
  {
   "cell_type": "code",
   "execution_count": 3,
   "metadata": {},
   "outputs": [
    {
     "name": "stdout",
     "output_type": "stream",
     "text": [
      "<bound method NDFrame.head of 0         franc\n",
      "1         krona\n",
      "2         krone\n",
      "3         krone\n",
      "4        dollar\n",
      "5          Euro\n",
      "6          Euro\n",
      "7         krona\n",
      "8        dollar\n",
      "9        dollar\n",
      "10       shekel\n",
      "11        colon\n",
      "12         Euro\n",
      "13         peso\n",
      "14       dollar\n",
      "15         real\n",
      "16         Euro\n",
      "17         Euro\n",
      "18         Euro\n",
      "19       dirham\n",
      "20     sterling\n",
      "21        Omani\n",
      "22       fuerte\n",
      "23       dollar\n",
      "24       balboa\n",
      "25         Euro\n",
      "26         peso\n",
      "27        riyal\n",
      "28         Euro\n",
      "29         peso\n",
      "         ...   \n",
      "128        kyat\n",
      "129        lari\n",
      "130      kwacha\n",
      "131       rupee\n",
      "132       franc\n",
      "133         lev\n",
      "134       pound\n",
      "135        rial\n",
      "136      kwanza\n",
      "137       franc\n",
      "138         nan\n",
      "139       franc\n",
      "140    shilling\n",
      "141       franc\n",
      "142       franc\n",
      "143       franc\n",
      "144        riel\n",
      "145    shilling\n",
      "146      ariary\n",
      "147       franc\n",
      "148       franc\n",
      "149       franc\n",
      "150         nan\n",
      "151       franc\n",
      "152     afghani\n",
      "153       franc\n",
      "154       franc\n",
      "155         nan\n",
      "156       franc\n",
      "157       franc\n",
      "Name: Currency Apply, Length: 158, dtype: object>\n"
     ]
    }
   ],
   "source": [
    "def extract_last_word(element):\n",
    "    s = str(element)\n",
    "    s_s = s.split()\n",
    "    return s_s[-1]\n",
    "\n",
    "merged['Currency Apply'] = merged['CurrencyUnit'].apply(extract_last_word)\n",
    "print(merged['Currency Apply'].head)"
   ]
  },
  {
   "cell_type": "markdown",
   "metadata": {},
   "source": [
    "## Vectorized String Methods Overview ##"
   ]
  },
  {
   "cell_type": "code",
   "execution_count": 4,
   "metadata": {},
   "outputs": [
    {
     "name": "stdout",
     "output_type": "stream",
     "text": [
      "0     franc\n",
      "1     krona\n",
      "2     krone\n",
      "3     krone\n",
      "4    dollar\n",
      "Name: Currency Vectorized, dtype: object\n"
     ]
    }
   ],
   "source": [
    "merged['Currency Vectorized'] = merged['CurrencyUnit'].str.split().str.get(-1)\n",
    "print(merged['Currency Vectorized'].head())"
   ]
  },
  {
   "cell_type": "markdown",
   "metadata": {},
   "source": [
    "## Exploring Missing Values with Vectorized String Methods ##"
   ]
  },
  {
   "cell_type": "code",
   "execution_count": 5,
   "metadata": {},
   "outputs": [],
   "source": [
    "lengths = merged['CurrencyUnit'].str.len()\n",
    "value_counts = lengths.value_counts(dropna = False)"
   ]
  },
  {
   "cell_type": "markdown",
   "metadata": {},
   "source": [
    "## Finding Specific Words in Strings ##"
   ]
  },
  {
   "cell_type": "code",
   "execution_count": 6,
   "metadata": {},
   "outputs": [
    {
     "name": "stdout",
     "output_type": "stream",
     "text": [
      "0     NaN\n",
      "1     NaN\n",
      "2     NaN\n",
      "3     NaN\n",
      "4    True\n",
      "Name: SpecialNotes, dtype: object\n"
     ]
    }
   ],
   "source": [
    "pattern = r\"[Nn]ational accounts\"\n",
    "national_accounts = merged['SpecialNotes'].str.contains(pattern)\n",
    "print(national_accounts.head())"
   ]
  },
  {
   "cell_type": "markdown",
   "metadata": {},
   "source": [
    "## Finding Specific Words in Strings Continued ##"
   ]
  },
  {
   "cell_type": "code",
   "execution_count": 7,
   "metadata": {},
   "outputs": [
    {
     "name": "stdout",
     "output_type": "stream",
     "text": [
      "          Country                   Region_x  Happiness Rank  Happiness Score  \\\n",
      "4          Canada              North America               5            7.427   \n",
      "7          Sweden             Western Europe               8            7.364   \n",
      "8     New Zealand  Australia and New Zealand               9            7.286   \n",
      "9       Australia  Australia and New Zealand              10            7.284   \n",
      "14  United States              North America              15            7.119   \n",
      "\n",
      "    Standard Error  Economy (GDP per Capita)   Family  \\\n",
      "4          0.03553                   1.32629  1.32261   \n",
      "7          0.03157                   1.33171  1.28907   \n",
      "8          0.03371                   1.25018  1.31967   \n",
      "9          0.04083                   1.33358  1.30923   \n",
      "14         0.03839                   1.39451  1.24711   \n",
      "\n",
      "    Health (Life Expectancy)  Freedom  Trust (Government Corruption)  ...  \\\n",
      "4                    0.90563  0.63297                        0.32957  ...   \n",
      "7                    0.91087  0.65980                        0.43844  ...   \n",
      "8                    0.90837  0.63938                        0.42922  ...   \n",
      "9                    0.93156  0.65124                        0.35637  ...   \n",
      "14                   0.86179  0.54604                        0.15890  ...   \n",
      "\n",
      "    LatestPopulationCensus  LatestHouseholdSurvey  \\\n",
      "4                     2011                    NaN   \n",
      "7                     2011                    NaN   \n",
      "8                     2013                    NaN   \n",
      "9                     2011                    NaN   \n",
      "14                    2010                    NaN   \n",
      "\n",
      "                                          IESurvey VitalRegistrationComplete  \\\n",
      "4                   Labor force survey (LFS), 2010                       Yes   \n",
      "7                         Income survey (IS), 2005                       Yes   \n",
      "8                                              NaN                       Yes   \n",
      "9   Expenditure survey/budget survey (ES/BS), 2003                       Yes   \n",
      "14                  Labor force survey (LFS), 2010                       Yes   \n",
      "\n",
      "   LatestAgriculturalCensus LatestIndustrialData LatestTradeData  \\\n",
      "4                      2011               2011.0          2013.0   \n",
      "7                      2010               2010.0          2013.0   \n",
      "8                      2012               2010.0          2013.0   \n",
      "9                      2011               2011.0          2013.0   \n",
      "14                     2012               2008.0          2013.0   \n",
      "\n",
      "   LatestWaterWithdrawalData Currency Apply Currency Vectorized  \n",
      "4                     1986.0         dollar              dollar  \n",
      "7                     2007.0          krona               krona  \n",
      "8                     2002.0         dollar              dollar  \n",
      "9                     2000.0         dollar              dollar  \n",
      "14                    2005.0         dollar              dollar  \n",
      "\n",
      "[5 rows x 45 columns]\n"
     ]
    }
   ],
   "source": [
    "pattern = r\"[Nn]ational accounts\"\n",
    "national_accounts = merged['SpecialNotes'].str.contains(pattern, na = False)\n",
    "merged_national_accounts = merged[national_accounts]\n",
    "print(merged_national_accounts.head())"
   ]
  },
  {
   "cell_type": "markdown",
   "metadata": {},
   "source": [
    "## Extracting Substrings from a Series ##"
   ]
  },
  {
   "cell_type": "code",
   "execution_count": 8,
   "metadata": {},
   "outputs": [],
   "source": [
    "pattern =r\"([1-2][0-9]{3})\"\n",
    "years = merged['SpecialNotes'].str.extract(pattern)"
   ]
  },
  {
   "cell_type": "markdown",
   "metadata": {},
   "source": [
    "## Extracting Substrings from a Series Continued ##"
   ]
  },
  {
   "cell_type": "code",
   "execution_count": 9,
   "metadata": {},
   "outputs": [],
   "source": [
    "pattern = r\"([1-2][0-9]{3})\"\n",
    "years = merged['SpecialNotes'].str.extract(pattern, expand=True)"
   ]
  },
  {
   "cell_type": "markdown",
   "metadata": {},
   "source": [
    "## Extracting All Matches of a Pattern from a Series ##"
   ]
  },
  {
   "cell_type": "code",
   "execution_count": 10,
   "metadata": {},
   "outputs": [
    {
     "name": "stdout",
     "output_type": "stream",
     "text": [
      "2012    33\n",
      "2010    28\n",
      "2011    22\n",
      "2013    12\n",
      "2009     8\n",
      "2005     6\n",
      "2008     6\n",
      "2007     4\n",
      "2004     3\n",
      "2000     1\n",
      "1999     1\n",
      "2006     1\n",
      "1998     1\n",
      "2003     1\n",
      "2002     1\n",
      "1995     1\n",
      "1992     1\n",
      "Name: Years, dtype: int64\n"
     ]
    }
   ],
   "source": [
    "pattern = r\"(?P<Years>[1-2][0-9]{3})\"\n",
    "years = merged['IESurvey'].str.extractall(pattern)\n",
    "value_counts = years['Years'].value_counts()\n",
    "print(value_counts)"
   ]
  },
  {
   "cell_type": "markdown",
   "metadata": {},
   "source": [
    "## Extracting More Than One Group of Patterns from a Series ##"
   ]
  },
  {
   "cell_type": "code",
   "execution_count": 11,
   "metadata": {},
   "outputs": [],
   "source": [
    "pattern = r\"(?P<First_Year>[1-2][0-9]{3})/?(?P<Second_Year>[0-9]{2})?\"\n",
    "years = merged['IESurvey'].str.extractall(pattern)\n",
    "first_two_year = years['First_Year'].str[0:2]\n",
    "years['Second_Year'] = first_two_year + years['Second_Year']"
   ]
  },
  {
   "cell_type": "markdown",
   "metadata": {},
   "source": [
    "## Cleaning a String Column, Aggregate the Data, and Plot the Results ##"
   ]
  },
  {
   "cell_type": "code",
   "execution_count": 12,
   "metadata": {},
   "outputs": [
    {
     "data": {
      "image/png": "[encoded data removed]",
      "text/plain": [
       "<Figure size 432x288 with 1 Axes>"
      ]
     },
     "metadata": {
      "needs_background": "light"
     },
     "output_type": "display_data"
    }
   ],
   "source": [
    "merged['IncomeGroup'] = merged['IncomeGroup'].str.replace(' income', '').str.replace(':', '').str.upper()\n",
    "pv_incomes = merged.pivot_table(values='Happiness Score', index='IncomeGroup')\n",
    "pv_incomes.plot(kind='bar', rot=30, ylim=(0,10))\n",
    "plt.show()"
   ]
  },
  {
   "cell_type": "code",
   "execution_count": null,
   "metadata": {},
   "outputs": [],
   "source": []
  }
 ],
 "metadata": {
  "kernelspec": {
   "display_name": "ds",
   "language": "python",
   "name": "ds"
  },
  "language_info": {
   "codemirror_mode": {
    "name": "ipython",
    "version": 3
   },
   "file_extension": ".py",
   "mimetype": "text/x-python",
   "name": "python",
   "nbconvert_exporter": "python",
   "pygments_lexer": "ipython3",
   "version": "3.6.7"
  }
 },
 "nbformat": 4,
 "nbformat_minor": 2
}
